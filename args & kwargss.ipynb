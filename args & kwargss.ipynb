{
 "cells": [
  {
   "cell_type": "markdown",
   "metadata": {},
   "source": [
    "# args"
   ]
  },
  {
   "cell_type": "code",
   "execution_count": 2,
   "metadata": {},
   "outputs": [
    {
     "data": {
      "text/plain": [
       "40"
      ]
     },
     "execution_count": 2,
     "metadata": {},
     "output_type": "execute_result"
    }
   ],
   "source": [
    "def myfun(a,b):\n",
    "    return a+b\n",
    "myfun(10,30)\n",
    "\n",
    "# problem with this is we cant send more than defined number of parameters"
   ]
  },
  {
   "cell_type": "code",
   "execution_count": 3,
   "metadata": {},
   "outputs": [
    {
     "data": {
      "text/plain": [
       "70"
      ]
     },
     "execution_count": 3,
     "metadata": {},
     "output_type": "execute_result"
    }
   ],
   "source": [
    "def myfun(*args):\n",
    "    return sum(args)\n",
    "\n",
    "myfun(10,20,40)"
   ]
  },
  {
   "cell_type": "markdown",
   "metadata": {},
   "source": [
    "# kwargs"
   ]
  },
  {
   "cell_type": "code",
   "execution_count": 7,
   "metadata": {},
   "outputs": [
    {
     "name": "stdout",
     "output_type": "stream",
     "text": [
      "My fav. fruit is Pappaya\n"
     ]
    }
   ],
   "source": [
    "def my_new_fun(**kwargs):\n",
    "    if'fruit' in kwargs:\n",
    "        print(f\"My fav. fruit is {kwargs['fruit']}\")\n",
    "    else:\n",
    "        print(\"I dont like any other fruit\")\n",
    "              \n",
    "my_new_fun(fruit=\"Pappaya\", veg='Carrots')"
   ]
  },
  {
   "cell_type": "markdown",
   "metadata": {},
   "source": [
    "# write a program using key word args. which can take name of the student, age and marks and print them all in a formatted Report card in O/P"
   ]
  },
  {
   "cell_type": "code",
   "execution_count": 13,
   "metadata": {},
   "outputs": [
    {
     "name": "stdout",
     "output_type": "stream",
     "text": [
      "Student name :Simbu\n",
      "Age : 27\n",
      "Mark : 97\n"
     ]
    }
   ],
   "source": [
    "def students_rec(**kwargs):\n",
    "    print(f\"Student name :{kwargs['name']}\")\n",
    "    print(f\"Age : {kwargs['age']}\")\n",
    "    print(f\"Mark : {kwargs['mark']}\")          \n",
    "students_rec(name=\"Simbu\", age='27', mark=\"97\")"
   ]
  },
  {
   "cell_type": "code",
   "execution_count": null,
   "metadata": {},
   "outputs": [],
   "source": []
  }
 ],
 "metadata": {
  "kernelspec": {
   "display_name": "Python 3",
   "language": "python",
   "name": "python3"
  },
  "language_info": {
   "codemirror_mode": {
    "name": "ipython",
    "version": 3
   },
   "file_extension": ".py",
   "mimetype": "text/x-python",
   "name": "python",
   "nbconvert_exporter": "python",
   "pygments_lexer": "ipython3",
   "version": "3.7.1"
  }
 },
 "nbformat": 4,
 "nbformat_minor": 2
}
